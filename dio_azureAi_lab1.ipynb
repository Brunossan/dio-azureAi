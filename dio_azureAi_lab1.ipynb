{
  "nbformat": 4,
  "nbformat_minor": 0,
  "metadata": {
    "colab": {
      "provenance": [],
      "authorship_tag": "ABX9TyMgOEspqbujMDwjtFX7DVzq",
      "include_colab_link": true
    },
    "kernelspec": {
      "name": "python3",
      "display_name": "Python 3"
    },
    "language_info": {
      "name": "python"
    }
  },
  "cells": [
    {
      "cell_type": "markdown",
      "metadata": {
        "id": "view-in-github",
        "colab_type": "text"
      },
      "source": [
        "<a href=\"https://colab.research.google.com/github/Brunossan/dio-azureAi/blob/main/dio_azureAi_lab1.ipynb\" target=\"_parent\"><img src=\"https://colab.research.google.com/assets/colab-badge.svg\" alt=\"Open In Colab\"/></a>"
      ]
    },
    {
      "cell_type": "code",
      "execution_count": 1,
      "metadata": {
        "id": "ER0h41i-ulab",
        "colab": {
          "base_uri": "https://localhost:8080/"
        },
        "outputId": "d0d8ae4a-1c4d-4cf4-e02c-f3c68e0ccc9f"
      },
      "outputs": [
        {
          "output_type": "stream",
          "name": "stdout",
          "text": [
            "Requirement already satisfied: requests in /usr/local/lib/python3.12/dist-packages (2.32.4)\n",
            "Collecting python-docx\n",
            "  Downloading python_docx-1.2.0-py3-none-any.whl.metadata (2.0 kB)\n",
            "Requirement already satisfied: charset_normalizer<4,>=2 in /usr/local/lib/python3.12/dist-packages (from requests) (3.4.4)\n",
            "Requirement already satisfied: idna<4,>=2.5 in /usr/local/lib/python3.12/dist-packages (from requests) (3.11)\n",
            "Requirement already satisfied: urllib3<3,>=1.21.1 in /usr/local/lib/python3.12/dist-packages (from requests) (2.5.0)\n",
            "Requirement already satisfied: certifi>=2017.4.17 in /usr/local/lib/python3.12/dist-packages (from requests) (2025.10.5)\n",
            "Requirement already satisfied: lxml>=3.1.0 in /usr/local/lib/python3.12/dist-packages (from python-docx) (5.4.0)\n",
            "Requirement already satisfied: typing_extensions>=4.9.0 in /usr/local/lib/python3.12/dist-packages (from python-docx) (4.15.0)\n",
            "Downloading python_docx-1.2.0-py3-none-any.whl (252 kB)\n",
            "\u001b[2K   \u001b[90m━━━━━━━━━━━━━━━━━━━━━━━━━━━━━━━━━━━━━━━━\u001b[0m \u001b[32m253.0/253.0 kB\u001b[0m \u001b[31m5.6 MB/s\u001b[0m eta \u001b[36m0:00:00\u001b[0m\n",
            "\u001b[?25hInstalling collected packages: python-docx\n",
            "Successfully installed python-docx-1.2.0\n"
          ]
        }
      ],
      "source": [
        "!pip install requests python-docx"
      ]
    },
    {
      "cell_type": "code",
      "source": [
        "import requests\n",
        "from docx import document\n",
        "import os\n",
        "\n",
        "subcription_key = ''\n",
        "endpoint = 'https://api.cognitive.microsofttranslator.com/'\n",
        "location = 'eastus2'\n",
        "language = 'pt-br'\n",
        "\n",
        "def translate_text(text_to_translate, target_language):\n",
        "    path = '/translate'\n",
        "    constructed_url = endpoint + path\n",
        "    headers = {\n",
        "        'Ocp-Apim-Subscription-Key': subcription_key,\n",
        "        'Ocp-Apim-Subscription-Region': location,\n",
        "        'Content-type': 'application/json',\n",
        "        'X-ClientTraceId': str(os.urandom(16))\n",
        "    }\n",
        "\n",
        "    body = [{\n",
        "        'text': text_to_translate\n",
        "    }]\n",
        "\n",
        "    params = {\n",
        "        'api-version': '3.0',\n",
        "        'from': 'en',\n",
        "        'to': target_language\n",
        "    }\n",
        "    request = requests.post(constructed_url, params=params, headers=headers, json=body)\n",
        "    response = request.json()\n",
        "    return response[0]['translations'][0]['text']\n",
        "\n"
      ],
      "metadata": {
        "id": "SxbQ-HWhDNNX"
      },
      "execution_count": 5,
      "outputs": []
    },
    {
      "cell_type": "markdown",
      "source": [
        "# Nova seção"
      ],
      "metadata": {
        "id": "R-3sGwNAG2RA"
      }
    },
    {
      "cell_type": "code",
      "source": [
        "translate_text(\"If you can keep your head when all about you. Are losing theirs and blaming it on you\",language)"
      ],
      "metadata": {
        "colab": {
          "base_uri": "https://localhost:8080/",
          "height": 35
        },
        "id": "ihn8YOl7FYrX",
        "outputId": "ca325a3b-d767-40f0-8bfa-1e1bc013fb83"
      },
      "execution_count": 6,
      "outputs": [
        {
          "output_type": "execute_result",
          "data": {
            "text/plain": [
              "'Se você pode manter sua cabeça quando tudo sobre você. Estão perdendo o deles e culpando você'"
            ],
            "application/vnd.google.colaboratory.intrinsic+json": {
              "type": "string"
            }
          },
          "metadata": {},
          "execution_count": 6
        }
      ]
    },
    {
      "cell_type": "code",
      "source": [],
      "metadata": {
        "id": "ZyhMmj5IGOGW"
      },
      "execution_count": null,
      "outputs": []
    }
  ]
}